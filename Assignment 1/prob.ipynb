{
 "cells": [
  {
   "cell_type": "code",
   "execution_count": 71,
   "id": "121604cf",
   "metadata": {},
   "outputs": [],
   "source": [
    "from typing import Callable\n",
    "import matplotlib.pyplot as plt\n",
    "import numpy as np\n",
    "import time\n",
    "import random\n",
    "import math"
   ]
  },
  {
   "cell_type": "code",
   "execution_count": 72,
   "id": "0792c364",
   "metadata": {},
   "outputs": [],
   "source": [
    "def time_algorithm(algo: Callable[[list[int]], list[int]], arr: list[int]) -> float:\n",
    "    start = time.perf_counter()\n",
    "    algo(arr.copy())\n",
    "    return time.perf_counter() - start\n"
   ]
  },
  {
   "cell_type": "code",
   "execution_count": 73,
   "id": "58ecc6a8",
   "metadata": {},
   "outputs": [],
   "source": [
    "def selection_sort(arr: list[int]) -> list[int]:\n",
    "    l = len(arr)\n",
    "    for i in range(l - 1):\n",
    "        min_idx = i\n",
    "        \n",
    "        for j in range(i + 1, l):\n",
    "            if arr[j] < arr[min_idx]:\n",
    "                min_idx = j\n",
    "                \n",
    "        arr[i], arr[min_idx] = arr[min_idx], arr[i]\n",
    "        \n",
    "    return arr"
   ]
  },
  {
   "cell_type": "code",
   "execution_count": 74,
   "id": "fc32a15b",
   "metadata": {},
   "outputs": [],
   "source": [
    "def merge(left: list[int], right: list[int]) -> list[int]:\n",
    "    merged_arr = []\n",
    "    i = 0\n",
    "    j = 0\n",
    "    \n",
    "    while i < len(left) and j < len(right):\n",
    "        if left[i] < right[j]:\n",
    "            merged_arr.append(left[i])\n",
    "            i += 1\n",
    "        else:\n",
    "            merged_arr.append(right[j])\n",
    "            j += 1\n",
    "        \n",
    "    merged_arr.extend(left[i:])\n",
    "    merged_arr.extend(right[j:])\n",
    "    \n",
    "    return merged_arr"
   ]
  },
  {
   "cell_type": "code",
   "execution_count": 75,
   "id": "12fcea76",
   "metadata": {},
   "outputs": [],
   "source": [
    "def merge_sort(arr: list[int]) -> list[int]:\n",
    "    if len(arr) == 0 or len(arr) == 1:\n",
    "        return arr\n",
    "    \n",
    "    if len(arr) == 2:\n",
    "        # do sorting\n",
    "        if arr[0] > arr[1]:\n",
    "            arr[0], arr[1] = arr[1], arr[0]\n",
    "        return arr\n",
    "    \n",
    "    mid = len(arr) // 2\n",
    "    \n",
    "    left = arr[:mid]\n",
    "    right = arr[mid:]\n",
    "    \n",
    "    left = merge_sort(left)\n",
    "    right = merge_sort(right)\n",
    "    \n",
    "    return merge(left, right)"
   ]
  },
  {
   "cell_type": "code",
   "execution_count": 76,
   "id": "7ef87e72",
   "metadata": {},
   "outputs": [],
   "source": [
    "sizes = [1000, 5000, 10000, 50000]\n",
    "size1 = sizes[0]\n",
    "arr = [random.randint(0, size1) for _ in range(size1)]"
   ]
  },
  {
   "cell_type": "markdown",
   "id": "60d50c04",
   "metadata": {
    "vscode": {
     "languageId": "raw"
    }
   },
   "source": [
    "Trial #1 (Merge Sort):"
   ]
  },
  {
   "cell_type": "code",
   "execution_count": 77,
   "id": "ca374fc1",
   "metadata": {},
   "outputs": [],
   "source": [
    "t1_times = []\n",
    "\n",
    "for _ in range(5):\n",
    "    t1_time = time_algorithm(merge_sort, arr)\n",
    "    t1_times.append(t1_time)\n",
    "\n",
    "time_1 = np.average(t1_times)"
   ]
  },
  {
   "cell_type": "code",
   "execution_count": 78,
   "id": "f443d557",
   "metadata": {},
   "outputs": [
    {
     "name": "stdout",
     "output_type": "stream",
     "text": [
      "Trial#1 time:  0.001527216611430049\n"
     ]
    }
   ],
   "source": [
    "print(\"Trial#1 time: \", time_1)"
   ]
  },
  {
   "cell_type": "markdown",
   "id": "ea3c8a2f",
   "metadata": {},
   "source": [
    "Trial #2 (Merge Sort):"
   ]
  },
  {
   "cell_type": "code",
   "execution_count": 79,
   "id": "b83fc76b",
   "metadata": {},
   "outputs": [],
   "source": [
    "size2 = sizes[1]\n",
    "arr = [random.randint(0, size2) for _ in range(size2)]"
   ]
  },
  {
   "cell_type": "code",
   "execution_count": 80,
   "id": "12ded637",
   "metadata": {},
   "outputs": [],
   "source": [
    "t2_times = []\n",
    "\n",
    "for _ in range(5):\n",
    "    t2_time = time_algorithm(merge_sort, arr)\n",
    "    t2_times.append(t2_time)\n",
    "\n",
    "time_2 = np.average(t2_times)"
   ]
  },
  {
   "cell_type": "code",
   "execution_count": 81,
   "id": "7a1dd295",
   "metadata": {},
   "outputs": [
    {
     "name": "stdout",
     "output_type": "stream",
     "text": [
      "Trial #2 time:  0.009236991603393108\n"
     ]
    }
   ],
   "source": [
    "print(\"Trial #2 time: \", time_2)"
   ]
  },
  {
   "cell_type": "markdown",
   "id": "9de768ac",
   "metadata": {},
   "source": [
    "Trial #3 (Merge Sort):"
   ]
  },
  {
   "cell_type": "code",
   "execution_count": 82,
   "id": "2814ea92",
   "metadata": {},
   "outputs": [],
   "source": [
    "size3 = sizes[2]\n",
    "arr = [random.randint(0, size3) for _ in range(size3)]"
   ]
  },
  {
   "cell_type": "code",
   "execution_count": 83,
   "id": "87144b51",
   "metadata": {},
   "outputs": [],
   "source": [
    "t3_times = []\n",
    "\n",
    "for _ in range(5):\n",
    "    t3_time = time_algorithm(merge_sort, arr)\n",
    "    t3_times.append(t3_time)\n",
    "\n",
    "time_3 = np.average(t3_times)"
   ]
  },
  {
   "cell_type": "code",
   "execution_count": 84,
   "id": "36e13300",
   "metadata": {},
   "outputs": [
    {
     "name": "stdout",
     "output_type": "stream",
     "text": [
      "Trial #3 time:  0.027284599997801706\n"
     ]
    }
   ],
   "source": [
    "print(\"Trial #3 time: \", time_3)"
   ]
  },
  {
   "cell_type": "markdown",
   "id": "1920840b",
   "metadata": {},
   "source": [
    "Trial #4 (Merge Sort):"
   ]
  },
  {
   "cell_type": "code",
   "execution_count": 85,
   "id": "d228f07a",
   "metadata": {},
   "outputs": [],
   "source": [
    "size4 = sizes[3]\n",
    "arr = [random.randint(0, size4) for _ in range(size4)]"
   ]
  },
  {
   "cell_type": "code",
   "execution_count": 86,
   "id": "b9d64a3d",
   "metadata": {},
   "outputs": [],
   "source": [
    "t4_times = []\n",
    "\n",
    "for _ in range(5):\n",
    "    t4_time = time_algorithm(merge_sort, arr)\n",
    "    t4_times.append(t4_time)\n",
    "\n",
    "time_4 = np.average(t4_times)"
   ]
  },
  {
   "cell_type": "code",
   "execution_count": 87,
   "id": "a4ecc194",
   "metadata": {},
   "outputs": [
    {
     "name": "stdout",
     "output_type": "stream",
     "text": [
      "Trial #4 time:  0.12486183360451833\n"
     ]
    }
   ],
   "source": [
    "print(\"Trial #4 time: \", time_4)"
   ]
  },
  {
   "cell_type": "markdown",
   "id": "17a7982f",
   "metadata": {},
   "source": [
    "Trial #5 (Merge Sort):"
   ]
  },
  {
   "cell_type": "code",
   "execution_count": 88,
   "id": "5b8f04df",
   "metadata": {},
   "outputs": [],
   "source": [
    "size5 = random.choice(sizes)\n",
    "arr = [random.randint(0, size5) for _ in range(size5)]"
   ]
  },
  {
   "cell_type": "code",
   "execution_count": 89,
   "id": "7cbdb77e",
   "metadata": {},
   "outputs": [],
   "source": [
    "t5_times = []\n",
    "\n",
    "for _ in range(5):\n",
    "    t5_time = time_algorithm(merge_sort, arr)\n",
    "    t5_times.append(t5_time)\n",
    "\n",
    "time_5 = np.average(t5_times)"
   ]
  },
  {
   "cell_type": "code",
   "execution_count": 90,
   "id": "5323926f",
   "metadata": {},
   "outputs": [
    {
     "name": "stdout",
     "output_type": "stream",
     "text": [
      "Trial #5 time:  0.0015330252004787325\n"
     ]
    }
   ],
   "source": [
    "print(\"Trial #5 time: \", time_5)"
   ]
  },
  {
   "cell_type": "code",
   "execution_count": 91,
   "id": "0851297b",
   "metadata": {},
   "outputs": [],
   "source": [
    "ms_times = np.array([time_1, time_2, time_3, time_4, time_5])\n",
    "ms_sizes = np.array([size1, size2, size3, size4, size5])\n",
    "\n",
    "ms_median = np.median(ms_times)\n",
    "ms_mean = np.mean(ms_times)\n",
    "ms_std = np.std(ms_times, mean=ms_mean)"
   ]
  },
  {
   "cell_type": "code",
   "execution_count": 92,
   "id": "80a6cf40",
   "metadata": {},
   "outputs": [
    {
     "name": "stdout",
     "output_type": "stream",
     "text": [
      "Median:  0.009236991603393108 \n",
      "\n",
      "Mean:  0.03288873340352439 \n",
      "\n",
      "STD:  0.046939509018324097 \n",
      "\n"
     ]
    }
   ],
   "source": [
    "print(\"Median: \", ms_median, \"\\n\")\n",
    "print(\"Mean: \", ms_mean, \"\\n\")\n",
    "print(\"STD: \", ms_std, \"\\n\")"
   ]
  },
  {
   "cell_type": "markdown",
   "id": "7e52fd83",
   "metadata": {},
   "source": [
    "Selection Sort:"
   ]
  },
  {
   "cell_type": "markdown",
   "id": "f3c36dc3",
   "metadata": {},
   "source": [
    "Trial #1 (Selection Sort):"
   ]
  },
  {
   "cell_type": "code",
   "execution_count": 93,
   "id": "42f345d5",
   "metadata": {},
   "outputs": [],
   "source": [
    "size1 = sizes[0]\n",
    "arr = [random.randint(0, size1) for _ in range(size1)]"
   ]
  },
  {
   "cell_type": "code",
   "execution_count": 94,
   "id": "7621ca1a",
   "metadata": {},
   "outputs": [],
   "source": [
    "t1_times = []\n",
    "\n",
    "for _ in range(5):\n",
    "    t1_time = time_algorithm(selection_sort, arr)\n",
    "    t1_times.append(t1_time)\n",
    "\n",
    "time_1 = np.average(t1_times)"
   ]
  },
  {
   "cell_type": "code",
   "execution_count": 95,
   "id": "61d7f114",
   "metadata": {},
   "outputs": [
    {
     "name": "stdout",
     "output_type": "stream",
     "text": [
      "Trial#1 time:  0.027449841803172604\n"
     ]
    }
   ],
   "source": [
    "print(\"Trial#1 time: \", time_1)"
   ]
  },
  {
   "cell_type": "markdown",
   "id": "4c19f581",
   "metadata": {},
   "source": [
    "Trial #2 (Selection Sort):"
   ]
  },
  {
   "cell_type": "code",
   "execution_count": 96,
   "id": "062d3873",
   "metadata": {},
   "outputs": [],
   "source": [
    "size2 = sizes[1]\n",
    "arr = [random.randint(0, size2) for _ in range(size2)]"
   ]
  },
  {
   "cell_type": "code",
   "execution_count": 97,
   "id": "bc280af6",
   "metadata": {},
   "outputs": [],
   "source": [
    "t2_times = []\n",
    "\n",
    "for _ in range(5):\n",
    "    t2_time = time_algorithm(selection_sort, arr)\n",
    "    t2_times.append(t2_time)\n",
    "\n",
    "time_2 = np.average(t2_times)"
   ]
  },
  {
   "cell_type": "code",
   "execution_count": 98,
   "id": "6d61a62c",
   "metadata": {},
   "outputs": [
    {
     "name": "stdout",
     "output_type": "stream",
     "text": [
      "Trial#2 time:  0.5175298167974688\n"
     ]
    }
   ],
   "source": [
    "print(\"Trial#2 time: \", time_2)"
   ]
  },
  {
   "cell_type": "markdown",
   "id": "27827eb7",
   "metadata": {},
   "source": [
    "Trial #3 (Selection Sort):"
   ]
  },
  {
   "cell_type": "code",
   "execution_count": 99,
   "id": "896d8805",
   "metadata": {},
   "outputs": [],
   "source": [
    "size3 = sizes[2]\n",
    "arr = [random.randint(0, size3) for _ in range(size3)]"
   ]
  },
  {
   "cell_type": "code",
   "execution_count": 100,
   "id": "7ca580a6",
   "metadata": {},
   "outputs": [],
   "source": [
    "t3_times = []\n",
    "\n",
    "for _ in range(5):\n",
    "    t3_time = time_algorithm(selection_sort, arr)\n",
    "    t3_times.append(t3_time)\n",
    "\n",
    "time_3 = np.average(t3_times)"
   ]
  },
  {
   "cell_type": "code",
   "execution_count": 101,
   "id": "bf1bb1fc",
   "metadata": {},
   "outputs": [
    {
     "name": "stdout",
     "output_type": "stream",
     "text": [
      "Trial#3 time:  1.975190583395306\n"
     ]
    }
   ],
   "source": [
    "print(\"Trial#3 time: \", time_3)"
   ]
  },
  {
   "cell_type": "markdown",
   "id": "a1341dc1",
   "metadata": {},
   "source": [
    "Trial #4 (Selection Sort):"
   ]
  },
  {
   "cell_type": "code",
   "execution_count": 102,
   "id": "2c2de572",
   "metadata": {},
   "outputs": [],
   "source": [
    "size4 = sizes[3]\n",
    "arr = [random.randint(0, size4) for _ in range(size4)]"
   ]
  },
  {
   "cell_type": "code",
   "execution_count": 103,
   "id": "b93fae86",
   "metadata": {},
   "outputs": [],
   "source": [
    "t4_times = []\n",
    "\n",
    "for _ in range(5):\n",
    "    t4_time = time_algorithm(selection_sort, arr)\n",
    "    t4_times.append(t4_time)\n",
    "\n",
    "time_4 = np.average(t4_times)"
   ]
  },
  {
   "cell_type": "code",
   "execution_count": 104,
   "id": "47e0203c",
   "metadata": {},
   "outputs": [
    {
     "name": "stdout",
     "output_type": "stream",
     "text": [
      "Trial#4 time:  1.975190583395306\n"
     ]
    }
   ],
   "source": [
    "print(\"Trial#4 time: \", time_3)"
   ]
  },
  {
   "cell_type": "markdown",
   "id": "0fdf995f",
   "metadata": {},
   "source": [
    "Trial #5 (Selection Sort)"
   ]
  },
  {
   "cell_type": "code",
   "execution_count": 105,
   "id": "50fa81b9",
   "metadata": {},
   "outputs": [],
   "source": [
    "size5 = random.choice(sizes)\n",
    "arr = [random.randint(0, size5) for _ in range(size5)]"
   ]
  },
  {
   "cell_type": "code",
   "execution_count": 106,
   "id": "72d703aa",
   "metadata": {},
   "outputs": [],
   "source": [
    "t5_times = []\n",
    "\n",
    "for _ in range(5):\n",
    "    t5_time = time_algorithm(selection_sort, arr)\n",
    "    t5_times.append(t5_time)\n",
    "\n",
    "time_5 = np.average(t5_times)"
   ]
  },
  {
   "cell_type": "code",
   "execution_count": 107,
   "id": "18b6ae45",
   "metadata": {},
   "outputs": [
    {
     "name": "stdout",
     "output_type": "stream",
     "text": [
      "Trial#5 time:  0.5109069834055845\n"
     ]
    }
   ],
   "source": [
    "print(\"Trial#5 time: \", time_5)"
   ]
  },
  {
   "cell_type": "code",
   "execution_count": 108,
   "id": "5e35c622",
   "metadata": {},
   "outputs": [],
   "source": [
    "ss_times = np.array([time_1, time_2, time_3, time_4, time_5])\n",
    "ss_sizes = np.array([size1, size2, size3, size4, size5])\n",
    "\n",
    "ss_median = np.median(ss_times)\n",
    "ss_mean = np.mean(ss_times)\n",
    "ss_std = np.std(ss_times, mean=ss_mean)"
   ]
  },
  {
   "cell_type": "code",
   "execution_count": 109,
   "id": "0d1ede5d",
   "metadata": {},
   "outputs": [
    {
     "name": "stdout",
     "output_type": "stream",
     "text": [
      "Median:  0.5175298167974688 \n",
      "\n",
      "Mean:  10.512449050119612 \n",
      "\n",
      "STD:  19.520295464848694 \n",
      "\n",
      "MS Array: [0.00152722 0.00923699 0.0272846  0.12486183 0.00153303]\n",
      "SS Array: [2.74498418e-02 5.17529817e-01 1.97519058e+00 4.95311680e+01\n",
      " 5.10906983e-01]\n"
     ]
    }
   ],
   "source": [
    "print(\"Median: \", ss_median, \"\\n\")\n",
    "print(\"Mean: \", ss_mean, \"\\n\")\n",
    "print(\"STD: \", ss_std, \"\\n\")\n",
    "print(\"MS Array:\", ms_times)\n",
    "print(\"SS Array:\", ss_times)"
   ]
  },
  {
   "cell_type": "markdown",
   "id": "afb07f32",
   "metadata": {},
   "source": [
    "**Plots**:"
   ]
  },
  {
   "cell_type": "markdown",
   "id": "14bf5033",
   "metadata": {},
   "source": [
    "*Linear Plot:*"
   ]
  },
  {
   "cell_type": "code",
   "execution_count": 111,
   "id": "c481ee97",
   "metadata": {},
   "outputs": [
    {
     "data": {
      "image/png": "[encoded data removed]",
      "text/plain": [
       "<Figure size 640x480 with 1 Axes>"
      ]
     },
     "metadata": {},
     "output_type": "display_data"
    }
   ],
   "source": [
    "ms_y_data = ms_mean * ms_sizes + 1\n",
    "ss_y_data = ss_mean * ss_sizes + 1\n",
    "\n",
    "plt.plot(ms_sizes, ms_y_data, label=\"Merge Sort\")\n",
    "plt.plot(ss_sizes, ss_y_data, label=\"Selection Sort\")\n",
    "plt.xlabel(\"N Sizes\")\n",
    "plt.ylabel(\"Runtime Median\")\n",
    "plt.legend()\n",
    "plt.show()"
   ]
  }
 ],
 "metadata": {
  "kernelspec": {
   "display_name": "Python 3",
   "language": "python",
   "name": "python3"
  },
  "language_info": {
   "codemirror_mode": {
    "name": "ipython",
    "version": 3
   },
   "file_extension": ".py",
   "mimetype": "text/x-python",
   "name": "python",
   "nbconvert_exporter": "python",
   "pygments_lexer": "ipython3",
   "version": "3.13.5"
  }
 },
 "nbformat": 4,
 "nbformat_minor": 5
}
